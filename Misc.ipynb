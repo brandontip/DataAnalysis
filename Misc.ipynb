{
 "cells": [
  {
   "cell_type": "code",
   "execution_count": 3,
   "metadata": {},
   "outputs": [],
   "source": [
    "import pandas as pd"
   ]
  },
  {
   "cell_type": "code",
   "execution_count": 10,
   "metadata": {},
   "outputs": [],
   "source": [
    "# pass a URL to read_csv:\n",
    "url = \"https://data.cityofnewyork.us/api/views/tg4x-b46p/rows.csv?accessType=DOWNLOAD\"\n",
    "df = pd.read_csv(url, usecols  = [\"StartDateTime\", \"EndDateTime\", \"Borough\", \"Category\", \"ZipCode(s)\"])"
   ]
  },
  {
   "cell_type": "code",
   "execution_count": 11,
   "metadata": {},
   "outputs": [
    {
     "data": {
      "text/html": [
       "<div>\n",
       "<style scoped>\n",
       "    .dataframe tbody tr th:only-of-type {\n",
       "        vertical-align: middle;\n",
       "    }\n",
       "\n",
       "    .dataframe tbody tr th {\n",
       "        vertical-align: top;\n",
       "    }\n",
       "\n",
       "    .dataframe thead th {\n",
       "        text-align: right;\n",
       "    }\n",
       "</style>\n",
       "<table border=\"1\" class=\"dataframe\">\n",
       "  <thead>\n",
       "    <tr style=\"text-align: right;\">\n",
       "      <th></th>\n",
       "      <th>StartDateTime</th>\n",
       "      <th>EndDateTime</th>\n",
       "      <th>Borough</th>\n",
       "      <th>Category</th>\n",
       "      <th>ZipCode(s)</th>\n",
       "    </tr>\n",
       "  </thead>\n",
       "  <tbody>\n",
       "    <tr>\n",
       "      <th>0</th>\n",
       "      <td>10/19/2018 02:00:00 PM</td>\n",
       "      <td>10/20/2018 04:00:00 AM</td>\n",
       "      <td>Manhattan</td>\n",
       "      <td>Television</td>\n",
       "      <td>10012</td>\n",
       "    </tr>\n",
       "    <tr>\n",
       "      <th>1</th>\n",
       "      <td>10/19/2018 02:00:00 PM</td>\n",
       "      <td>10/20/2018 02:00:00 AM</td>\n",
       "      <td>Manhattan</td>\n",
       "      <td>Film</td>\n",
       "      <td>10034, 10463</td>\n",
       "    </tr>\n",
       "    <tr>\n",
       "      <th>2</th>\n",
       "      <td>10/30/2014 07:00:00 AM</td>\n",
       "      <td>10/31/2014 02:00:00 AM</td>\n",
       "      <td>Queens</td>\n",
       "      <td>Television</td>\n",
       "      <td>11378</td>\n",
       "    </tr>\n",
       "    <tr>\n",
       "      <th>3</th>\n",
       "      <td>10/20/2018 07:00:00 AM</td>\n",
       "      <td>10/20/2018 06:00:00 PM</td>\n",
       "      <td>Brooklyn</td>\n",
       "      <td>Still Photography</td>\n",
       "      <td>11201</td>\n",
       "    </tr>\n",
       "    <tr>\n",
       "      <th>4</th>\n",
       "      <td>11/16/2013 12:01:00 AM</td>\n",
       "      <td>11/17/2013 06:00:00 AM</td>\n",
       "      <td>Manhattan</td>\n",
       "      <td>Theater</td>\n",
       "      <td>10001, 10121</td>\n",
       "    </tr>\n",
       "    <tr>\n",
       "      <th>...</th>\n",
       "      <td>...</td>\n",
       "      <td>...</td>\n",
       "      <td>...</td>\n",
       "      <td>...</td>\n",
       "      <td>...</td>\n",
       "    </tr>\n",
       "    <tr>\n",
       "      <th>67036</th>\n",
       "      <td>03/18/2020 08:00:00 AM</td>\n",
       "      <td>03/18/2020 10:00:00 PM</td>\n",
       "      <td>Brooklyn</td>\n",
       "      <td>Television</td>\n",
       "      <td>11222</td>\n",
       "    </tr>\n",
       "    <tr>\n",
       "      <th>67037</th>\n",
       "      <td>08/14/2019 07:00:00 AM</td>\n",
       "      <td>08/14/2019 09:00:00 PM</td>\n",
       "      <td>Queens</td>\n",
       "      <td>Television</td>\n",
       "      <td>11237, 11385</td>\n",
       "    </tr>\n",
       "    <tr>\n",
       "      <th>67038</th>\n",
       "      <td>03/27/2019 06:00:00 AM</td>\n",
       "      <td>03/27/2019 07:00:00 PM</td>\n",
       "      <td>Brooklyn</td>\n",
       "      <td>Film</td>\n",
       "      <td>11101, 11222, 11368, 11372</td>\n",
       "    </tr>\n",
       "    <tr>\n",
       "      <th>67039</th>\n",
       "      <td>11/02/2019 12:01:00 AM</td>\n",
       "      <td>11/03/2019 07:00:00 PM</td>\n",
       "      <td>Brooklyn</td>\n",
       "      <td>Television</td>\n",
       "      <td>10065, 10454, 11217</td>\n",
       "    </tr>\n",
       "    <tr>\n",
       "      <th>67040</th>\n",
       "      <td>04/14/2019 11:00:00 AM</td>\n",
       "      <td>04/14/2019 11:59:00 PM</td>\n",
       "      <td>Manhattan</td>\n",
       "      <td>Still Photography</td>\n",
       "      <td>10013, 11106</td>\n",
       "    </tr>\n",
       "  </tbody>\n",
       "</table>\n",
       "<p>67041 rows × 5 columns</p>\n",
       "</div>"
      ],
      "text/plain": [
       "                StartDateTime             EndDateTime    Borough  \\\n",
       "0      10/19/2018 02:00:00 PM  10/20/2018 04:00:00 AM  Manhattan   \n",
       "1      10/19/2018 02:00:00 PM  10/20/2018 02:00:00 AM  Manhattan   \n",
       "2      10/30/2014 07:00:00 AM  10/31/2014 02:00:00 AM     Queens   \n",
       "3      10/20/2018 07:00:00 AM  10/20/2018 06:00:00 PM   Brooklyn   \n",
       "4      11/16/2013 12:01:00 AM  11/17/2013 06:00:00 AM  Manhattan   \n",
       "...                       ...                     ...        ...   \n",
       "67036  03/18/2020 08:00:00 AM  03/18/2020 10:00:00 PM   Brooklyn   \n",
       "67037  08/14/2019 07:00:00 AM  08/14/2019 09:00:00 PM     Queens   \n",
       "67038  03/27/2019 06:00:00 AM  03/27/2019 07:00:00 PM   Brooklyn   \n",
       "67039  11/02/2019 12:01:00 AM  11/03/2019 07:00:00 PM   Brooklyn   \n",
       "67040  04/14/2019 11:00:00 AM  04/14/2019 11:59:00 PM  Manhattan   \n",
       "\n",
       "                Category                  ZipCode(s)  \n",
       "0             Television                       10012  \n",
       "1                   Film                10034, 10463  \n",
       "2             Television                       11378  \n",
       "3      Still Photography                       11201  \n",
       "4                Theater                10001, 10121  \n",
       "...                  ...                         ...  \n",
       "67036         Television                       11222  \n",
       "67037         Television                11237, 11385  \n",
       "67038               Film  11101, 11222, 11368, 11372  \n",
       "67039         Television         10065, 10454, 11217  \n",
       "67040  Still Photography                10013, 11106  \n",
       "\n",
       "[67041 rows x 5 columns]"
      ]
     },
     "execution_count": 11,
     "metadata": {},
     "output_type": "execute_result"
    }
   ],
   "source": [
    "df"
   ]
  },
  {
   "cell_type": "code",
   "execution_count": 12,
   "metadata": {},
   "outputs": [
    {
     "data": {
      "text/plain": [
       "Manhattan        32850\n",
       "Brooklyn         20624\n",
       "Queens           10633\n",
       "Bronx             2025\n",
       "Staten Island      909\n",
       "Name: Borough, dtype: int64"
      ]
     },
     "execution_count": 12,
     "metadata": {},
     "output_type": "execute_result"
    }
   ],
   "source": [
    "df[\"Borough\"].value_counts()"
   ]
  },
  {
   "cell_type": "code",
   "execution_count": 21,
   "metadata": {},
   "outputs": [
    {
     "name": "stdout",
     "output_type": "stream",
     "text": [
      "<class 'pandas.core.frame.DataFrame'>\n",
      "RangeIndex: 67041 entries, 0 to 67040\n",
      "Data columns (total 5 columns):\n",
      " #   Column         Non-Null Count  Dtype \n",
      "---  ------         --------------  ----- \n",
      " 0   StartDateTime  67041 non-null  object\n",
      " 1   EndDateTime    67041 non-null  object\n",
      " 2   Borough        67041 non-null  object\n",
      " 3   Category       67041 non-null  object\n",
      " 4   ZipCode(s)     67027 non-null  object\n",
      "dtypes: object(5)\n",
      "memory usage: 2.6+ MB\n"
     ]
    }
   ],
   "source": [
    "df.info()"
   ]
  },
  {
   "cell_type": "code",
   "execution_count": 25,
   "metadata": {},
   "outputs": [
    {
     "data": {
      "text/plain": [
       "0                             10012\n",
       "1                      10034, 10463\n",
       "2                             11378\n",
       "3                             11201\n",
       "4                      10001, 10121\n",
       "                    ...            \n",
       "67036                         11222\n",
       "67037                  11237, 11385\n",
       "67038    11101, 11222, 11368, 11372\n",
       "67039           10065, 10454, 11217\n",
       "67040                  10013, 11106\n",
       "Name: ZipCode(s), Length: 67041, dtype: object"
      ]
     },
     "execution_count": 25,
     "metadata": {},
     "output_type": "execute_result"
    }
   ],
   "source": [
    "df[\"ZipCode(s)\"].explode()"
   ]
  },
  {
   "cell_type": "code",
   "execution_count": 51,
   "metadata": {},
   "outputs": [],
   "source": [
    "df[\"ZipCode(s)\"] = df[\"ZipCode(s)\"].astype(str)\n",
    "slist =[]\n",
    "for x in df[\"ZipCode(s)\"]:\n",
    "    for zip in x.split(\",\"):\n",
    "        slist.append(zip.strip())\n",
    "zips = pd.Series(slist)"
   ]
  },
  {
   "cell_type": "code",
   "execution_count": 52,
   "metadata": {},
   "outputs": [
    {
     "data": {
      "text/plain": [
       "11222    7976\n",
       "11101    6111\n",
       "10036    4413\n",
       "10019    4163\n",
       "10001    3378\n",
       "         ... \n",
       "10151       2\n",
       "10080       1\n",
       "10162       1\n",
       "10153       1\n",
       "10123       1\n",
       "Length: 231, dtype: int64"
      ]
     },
     "execution_count": 52,
     "metadata": {},
     "output_type": "execute_result"
    }
   ],
   "source": [
    "zips.value_counts()"
   ]
  },
  {
   "cell_type": "markdown",
   "metadata": {},
   "source": [
    "Writing to a csv:"
   ]
  },
  {
   "cell_type": "code",
   "execution_count": 54,
   "metadata": {},
   "outputs": [],
   "source": [
    "# df.to_csv(\"filename.csv\", index =False, columns = [...)\n",
    "# df.to_csv(\"permits.csv\")"
   ]
  },
  {
   "cell_type": "markdown",
   "metadata": {},
   "source": [
    "Reading from Excel Files:"
   ]
  },
  {
   "cell_type": "code",
   "execution_count": 55,
   "metadata": {},
   "outputs": [],
   "source": [
    "# need to install xlrd and dependencies \n",
    "# pd.read_excel(\".....xlsx\", sheet_name = \"sheet1\")\n",
    "# passing sheet_name a list, or None will create a dictionary"
   ]
  },
  {
   "cell_type": "markdown",
   "metadata": {},
   "source": [
    "Writing to Excel Files:"
   ]
  },
  {
   "cell_type": "code",
   "execution_count": 56,
   "metadata": {},
   "outputs": [],
   "source": [
    "# writeobject = pd.ExcelWriter(\"....xslx\")                   set up writer object\n",
    "# df1.to_excel(writeobject, sheet_name = \"Sheet1\"....)       create sheet 1\n",
    "# df2.to_excel(writeobject, sheet_name = \"Sheet2\"....)       create sheet 2\n",
    "# writeobject.save()                                         file is created"
   ]
  },
  {
   "cell_type": "markdown",
   "metadata": {},
   "source": [
    "Options:"
   ]
  },
  {
   "cell_type": "code",
   "execution_count": 109,
   "metadata": {},
   "outputs": [
    {
     "data": {
      "text/plain": [
       "60"
      ]
     },
     "execution_count": 109,
     "metadata": {},
     "output_type": "execute_result"
    }
   ],
   "source": [
    "# example: \n",
    "pd.options.display.max_rows\n",
    "# pd.options.display.max_rows = 50   to change it\n",
    "pd.get_option(\"max_rows\")\n",
    "# pd.set_option(\"max_rows\", 50)\n",
    "# pd.reset_option(\"max_rows\")\n",
    "# pd.describe_option(\"max_rows\")"
   ]
  },
  {
   "cell_type": "code",
   "execution_count": 110,
   "metadata": {},
   "outputs": [
    {
     "data": {
      "text/plain": [
       "6"
      ]
     },
     "execution_count": 110,
     "metadata": {},
     "output_type": "execute_result"
    }
   ],
   "source": [
    "pd.get_option(\"precision\")\n",
    "# set and reset like any other option\n",
    "# doesn't modify data, just the visualization of it"
   ]
  }
 ],
 "metadata": {
  "kernelspec": {
   "display_name": "Python 3",
   "language": "python",
   "name": "python3"
  },
  "language_info": {
   "codemirror_mode": {
    "name": "ipython",
    "version": 3
   },
   "file_extension": ".py",
   "mimetype": "text/x-python",
   "name": "python",
   "nbconvert_exporter": "python",
   "pygments_lexer": "ipython3",
   "version": "3.7.7"
  }
 },
 "nbformat": 4,
 "nbformat_minor": 4
}
