{
 "cells": [
  {
   "cell_type": "code",
   "execution_count": 2,
   "metadata": {},
   "outputs": [],
   "source": [
    "import pandas as pd\n"
   ]
  },
  {
   "cell_type": "code",
   "execution_count": 3,
   "metadata": {},
   "outputs": [
    {
     "data": {
      "text/plain": [
       "0     apple\n",
       "1    banana\n",
       "2    cherry\n",
       "dtype: object"
      ]
     },
     "execution_count": 3,
     "metadata": {},
     "output_type": "execute_result"
    }
   ],
   "source": [
    "fruits = [\"apple\", \"banana\", \"cherry\"]\n",
    "pd.Series(fruits)"
   ]
  },
  {
   "cell_type": "code",
   "execution_count": 6,
   "metadata": {},
   "outputs": [],
   "source": [
    "my_car = {\n",
    "  \"brand\": \"Ford\",\n",
    "  \"model\": \"Mustang\",\n",
    "  \"year\": 1967\n",
    "}\n",
    "car = pd.Series(my_car)"
   ]
  },
  {
   "cell_type": "code",
   "execution_count": 11,
   "metadata": {},
   "outputs": [
    {
     "data": {
      "text/plain": [
       "0.125"
      ]
     },
     "execution_count": 11,
     "metadata": {},
     "output_type": "execute_result"
    }
   ],
   "source": [
    "numbers = pd.Series([1,3,1.5, -5])\n",
    "numbers.mean()"
   ]
  },
  {
   "cell_type": "code",
   "execution_count": 12,
   "metadata": {},
   "outputs": [
    {
     "data": {
      "text/plain": [
       "Monday        apple\n",
       "Wednesday    banana\n",
       "Friday       cherry\n",
       "dtype: object"
      ]
     },
     "execution_count": 12,
     "metadata": {},
     "output_type": "execute_result"
    }
   ],
   "source": [
    "days = [\"Monday\", \"Wednesday\", \"Friday\"]\n",
    "pd.Series(fruits, days)"
   ]
  },
  {
   "cell_type": "code",
   "execution_count": 20,
   "metadata": {},
   "outputs": [
    {
     "data": {
      "text/html": [
       "<div>\n",
       "<style scoped>\n",
       "    .dataframe tbody tr th:only-of-type {\n",
       "        vertical-align: middle;\n",
       "    }\n",
       "\n",
       "    .dataframe tbody tr th {\n",
       "        vertical-align: top;\n",
       "    }\n",
       "\n",
       "    .dataframe thead th {\n",
       "        text-align: right;\n",
       "    }\n",
       "</style>\n",
       "<table border=\"1\" class=\"dataframe\">\n",
       "  <thead>\n",
       "    <tr style=\"text-align: right;\">\n",
       "      <th></th>\n",
       "      <th>date</th>\n",
       "      <th>cases</th>\n",
       "      <th>deaths</th>\n",
       "    </tr>\n",
       "  </thead>\n",
       "  <tbody>\n",
       "    <tr>\n",
       "      <th>0</th>\n",
       "      <td>2020-01-21</td>\n",
       "      <td>1</td>\n",
       "      <td>0</td>\n",
       "    </tr>\n",
       "    <tr>\n",
       "      <th>1</th>\n",
       "      <td>2020-01-22</td>\n",
       "      <td>1</td>\n",
       "      <td>0</td>\n",
       "    </tr>\n",
       "    <tr>\n",
       "      <th>2</th>\n",
       "      <td>2020-01-23</td>\n",
       "      <td>1</td>\n",
       "      <td>0</td>\n",
       "    </tr>\n",
       "    <tr>\n",
       "      <th>3</th>\n",
       "      <td>2020-01-24</td>\n",
       "      <td>2</td>\n",
       "      <td>0</td>\n",
       "    </tr>\n",
       "    <tr>\n",
       "      <th>4</th>\n",
       "      <td>2020-01-25</td>\n",
       "      <td>3</td>\n",
       "      <td>0</td>\n",
       "    </tr>\n",
       "    <tr>\n",
       "      <th>...</th>\n",
       "      <td>...</td>\n",
       "      <td>...</td>\n",
       "      <td>...</td>\n",
       "    </tr>\n",
       "    <tr>\n",
       "      <th>175</th>\n",
       "      <td>2020-07-14</td>\n",
       "      <td>3445483</td>\n",
       "      <td>136356</td>\n",
       "    </tr>\n",
       "    <tr>\n",
       "      <th>176</th>\n",
       "      <td>2020-07-15</td>\n",
       "      <td>3513850</td>\n",
       "      <td>137327</td>\n",
       "    </tr>\n",
       "    <tr>\n",
       "      <th>177</th>\n",
       "      <td>2020-07-16</td>\n",
       "      <td>3589493</td>\n",
       "      <td>138284</td>\n",
       "    </tr>\n",
       "    <tr>\n",
       "      <th>178</th>\n",
       "      <td>2020-07-17</td>\n",
       "      <td>3660324</td>\n",
       "      <td>139186</td>\n",
       "    </tr>\n",
       "    <tr>\n",
       "      <th>179</th>\n",
       "      <td>2020-07-18</td>\n",
       "      <td>3722722</td>\n",
       "      <td>139961</td>\n",
       "    </tr>\n",
       "  </tbody>\n",
       "</table>\n",
       "<p>180 rows × 3 columns</p>\n",
       "</div>"
      ],
      "text/plain": [
       "           date    cases  deaths\n",
       "0    2020-01-21        1       0\n",
       "1    2020-01-22        1       0\n",
       "2    2020-01-23        1       0\n",
       "3    2020-01-24        2       0\n",
       "4    2020-01-25        3       0\n",
       "..          ...      ...     ...\n",
       "175  2020-07-14  3445483  136356\n",
       "176  2020-07-15  3513850  137327\n",
       "177  2020-07-16  3589493  138284\n",
       "178  2020-07-17  3660324  139186\n",
       "179  2020-07-18  3722722  139961\n",
       "\n",
       "[180 rows x 3 columns]"
      ]
     },
     "execution_count": 20,
     "metadata": {},
     "output_type": "execute_result"
    }
   ],
   "source": [
    "# cummulative COVID data for U.S.\n",
    "coviddf = pd.read_csv(\"us.covid.csv\")\n",
    "coviddf"
   ]
  },
  {
   "cell_type": "code",
   "execution_count": 28,
   "metadata": {},
   "outputs": [
    {
     "data": {
      "text/plain": [
       "date\n",
       "2020-01-21         0\n",
       "2020-01-22         0\n",
       "2020-01-23         0\n",
       "2020-01-24         0\n",
       "2020-01-25         0\n",
       "               ...  \n",
       "2020-07-14    136356\n",
       "2020-07-15    137327\n",
       "2020-07-16    138284\n",
       "2020-07-17    139186\n",
       "2020-07-18    139961\n",
       "Length: 180, dtype: int64"
      ]
     },
     "execution_count": 28,
     "metadata": {},
     "output_type": "execute_result"
    }
   ],
   "source": [
    "death_ser =  pd.Series(coviddf[\"deaths\"].values, index=coviddf[\"date\"])\n",
    "death_ser"
   ]
  },
  {
   "cell_type": "code",
   "execution_count": 31,
   "metadata": {
    "collapsed": true
   },
   "outputs": [
    {
     "data": {
      "text/plain": [
       "{'2020-01-21': 0,\n",
       " '2020-01-22': 0,\n",
       " '2020-01-23': 0,\n",
       " '2020-01-24': 0,\n",
       " '2020-01-25': 0,\n",
       " '2020-01-26': 0,\n",
       " '2020-01-27': 0,\n",
       " '2020-01-28': 0,\n",
       " '2020-01-29': 0,\n",
       " '2020-01-30': 0,\n",
       " '2020-01-31': 0,\n",
       " '2020-02-01': 0,\n",
       " '2020-02-02': 0,\n",
       " '2020-02-03': 0,\n",
       " '2020-02-04': 0,\n",
       " '2020-02-05': 0,\n",
       " '2020-02-06': 0,\n",
       " '2020-02-07': 0,\n",
       " '2020-02-08': 0,\n",
       " '2020-02-09': 0,\n",
       " '2020-02-10': 0,\n",
       " '2020-02-11': 0,\n",
       " '2020-02-12': 0,\n",
       " '2020-02-13': 0,\n",
       " '2020-02-14': 0,\n",
       " '2020-02-15': 0,\n",
       " '2020-02-16': 0,\n",
       " '2020-02-17': 0,\n",
       " '2020-02-18': 0,\n",
       " '2020-02-19': 0,\n",
       " '2020-02-20': 0,\n",
       " '2020-02-21': 0,\n",
       " '2020-02-22': 0,\n",
       " '2020-02-23': 0,\n",
       " '2020-02-24': 0,\n",
       " '2020-02-25': 0,\n",
       " '2020-02-26': 0,\n",
       " '2020-02-27': 0,\n",
       " '2020-02-28': 0,\n",
       " '2020-02-29': 1,\n",
       " '2020-03-01': 3,\n",
       " '2020-03-02': 6,\n",
       " '2020-03-03': 10,\n",
       " '2020-03-04': 12,\n",
       " '2020-03-05': 12,\n",
       " '2020-03-06': 15,\n",
       " '2020-03-07': 19,\n",
       " '2020-03-08': 22,\n",
       " '2020-03-09': 26,\n",
       " '2020-03-10': 31,\n",
       " '2020-03-11': 37,\n",
       " '2020-03-12': 43,\n",
       " '2020-03-13': 50,\n",
       " '2020-03-14': 60,\n",
       " '2020-03-15': 68,\n",
       " '2020-03-16': 91,\n",
       " '2020-03-17': 117,\n",
       " '2020-03-18': 162,\n",
       " '2020-03-19': 212,\n",
       " '2020-03-20': 277,\n",
       " '2020-03-21': 360,\n",
       " '2020-03-22': 458,\n",
       " '2020-03-23': 579,\n",
       " '2020-03-24': 785,\n",
       " '2020-03-25': 1054,\n",
       " '2020-03-26': 1353,\n",
       " '2020-03-27': 1770,\n",
       " '2020-03-28': 2300,\n",
       " '2020-03-29': 2718,\n",
       " '2020-03-30': 3368,\n",
       " '2020-03-31': 4304,\n",
       " '2020-04-01': 5325,\n",
       " '2020-04-02': 6541,\n",
       " '2020-04-03': 7932,\n",
       " '2020-04-04': 9488,\n",
       " '2020-04-05': 10856,\n",
       " '2020-04-06': 12382,\n",
       " '2020-04-07': 14616,\n",
       " '2020-04-08': 16701,\n",
       " '2020-04-09': 18821,\n",
       " '2020-04-10': 21084,\n",
       " '2020-04-11': 23168,\n",
       " '2020-04-12': 24849,\n",
       " '2020-04-13': 26613,\n",
       " '2020-04-14': 29318,\n",
       " '2020-04-15': 32070,\n",
       " '2020-04-16': 34418,\n",
       " '2020-04-17': 36707,\n",
       " '2020-04-18': 38659,\n",
       " '2020-04-19': 40179,\n",
       " '2020-04-20': 42016,\n",
       " '2020-04-21': 44688,\n",
       " '2020-04-22': 47059,\n",
       " '2020-04-23': 49228,\n",
       " '2020-04-24': 51360,\n",
       " '2020-04-25': 53326,\n",
       " '2020-04-26': 54580,\n",
       " '2020-04-27': 56022,\n",
       " '2020-04-28': 58416,\n",
       " '2020-04-29': 60930,\n",
       " '2020-04-30': 63140,\n",
       " '2020-05-01': 64902,\n",
       " '2020-05-02': 66485,\n",
       " '2020-05-03': 67816,\n",
       " '2020-05-04': 68905,\n",
       " '2020-05-05': 71139,\n",
       " '2020-05-06': 73847,\n",
       " '2020-05-07': 75805,\n",
       " '2020-05-08': 77380,\n",
       " '2020-05-09': 78834,\n",
       " '2020-05-10': 79765,\n",
       " '2020-05-11': 80747,\n",
       " '2020-05-12': 82400,\n",
       " '2020-05-13': 84168,\n",
       " '2020-05-14': 85906,\n",
       " '2020-05-15': 87499,\n",
       " '2020-05-16': 88724,\n",
       " '2020-05-17': 89568,\n",
       " '2020-05-18': 90414,\n",
       " '2020-05-19': 91934,\n",
       " '2020-05-20': 93411,\n",
       " '2020-05-21': 94722,\n",
       " '2020-05-22': 96010,\n",
       " '2020-05-23': 97060,\n",
       " '2020-05-24': 97680,\n",
       " '2020-05-25': 98190,\n",
       " '2020-05-26': 98937,\n",
       " '2020-05-27': 100422,\n",
       " '2020-05-28': 101622,\n",
       " '2020-05-29': 102812,\n",
       " '2020-05-30': 103775,\n",
       " '2020-05-31': 104379,\n",
       " '2020-06-01': 105113,\n",
       " '2020-06-02': 106195,\n",
       " '2020-06-03': 107184,\n",
       " '2020-06-04': 108192,\n",
       " '2020-06-05': 109304,\n",
       " '2020-06-06': 110032,\n",
       " '2020-06-07': 110422,\n",
       " '2020-06-08': 111144,\n",
       " '2020-06-09': 112174,\n",
       " '2020-06-10': 113103,\n",
       " '2020-06-11': 113980,\n",
       " '2020-06-12': 114758,\n",
       " '2020-06-13': 115451,\n",
       " '2020-06-14': 115768,\n",
       " '2020-06-15': 116216,\n",
       " '2020-06-16': 116985,\n",
       " '2020-06-17': 117746,\n",
       " '2020-06-18': 118473,\n",
       " '2020-06-19': 119171,\n",
       " '2020-06-20': 119717,\n",
       " '2020-06-21': 119974,\n",
       " '2020-06-22': 120334,\n",
       " '2020-06-23': 121167,\n",
       " '2020-06-24': 121934,\n",
       " '2020-06-25': 124400,\n",
       " '2020-06-26': 125033,\n",
       " '2020-06-27': 125544,\n",
       " '2020-06-28': 125814,\n",
       " '2020-06-29': 126161,\n",
       " '2020-06-30': 127461,\n",
       " '2020-07-01': 128103,\n",
       " '2020-07-02': 128826,\n",
       " '2020-07-03': 129415,\n",
       " '2020-07-04': 129679,\n",
       " '2020-07-05': 129941,\n",
       " '2020-07-06': 130332,\n",
       " '2020-07-07': 131289,\n",
       " '2020-07-08': 132237,\n",
       " '2020-07-09': 133079,\n",
       " '2020-07-10': 133907,\n",
       " '2020-07-11': 134582,\n",
       " '2020-07-12': 134977,\n",
       " '2020-07-13': 135402,\n",
       " '2020-07-14': 136356,\n",
       " '2020-07-15': 137327,\n",
       " '2020-07-16': 138284,\n",
       " '2020-07-17': 139186,\n",
       " '2020-07-18': 139961}"
      ]
     },
     "execution_count": 31,
     "metadata": {},
     "output_type": "execute_result"
    }
   ],
   "source": [
    "list(death_ser)\n",
    "dict(death_ser)"
   ]
  },
  {
   "cell_type": "code",
   "execution_count": 37,
   "metadata": {},
   "outputs": [
    {
     "name": "stdout",
     "output_type": "stream",
     "text": [
      "int64\n",
      "False\n",
      "1\n",
      "(180,)\n",
      "None\n"
     ]
    }
   ],
   "source": [
    "print(death_ser.dtype)\n",
    "print(death_ser.is_unique)\n",
    "print(death_ser.ndim)\n",
    "print(death_ser.shape)\n",
    "print(death_ser.name)"
   ]
  },
  {
   "cell_type": "code",
   "execution_count": 39,
   "metadata": {},
   "outputs": [
    {
     "data": {
      "text/plain": [
       "date\n",
       "2020-07-18    139961\n",
       "2020-07-17    139186\n",
       "2020-07-16    138284\n",
       "2020-07-15    137327\n",
       "2020-07-14    136356\n",
       "               ...  \n",
       "2020-02-16         0\n",
       "2020-02-15         0\n",
       "2020-02-14         0\n",
       "2020-02-13         0\n",
       "2020-01-21         0\n",
       "Length: 180, dtype: int64"
      ]
     },
     "execution_count": 39,
     "metadata": {},
     "output_type": "execute_result"
    }
   ],
   "source": [
    "death_ser.sort_values(ascending=False)"
   ]
  },
  {
   "cell_type": "code",
   "execution_count": 56,
   "metadata": {},
   "outputs": [
    {
     "name": "stdout",
     "output_type": "stream",
     "text": [
      "False\n",
      "True\n"
     ]
    }
   ],
   "source": [
    "print(136356 in death_ser.index)\n",
    "print(136356 in death_ser.values)\n"
   ]
  },
  {
   "cell_type": "code",
   "execution_count": 57,
   "metadata": {},
   "outputs": [
    {
     "data": {
      "text/plain": [
       "date\n",
       "2020-04-01     5325\n",
       "2020-04-03     7932\n",
       "2020-04-05    10856\n",
       "2020-04-07    14616\n",
       "dtype: int64"
      ]
     },
     "execution_count": 57,
     "metadata": {},
     "output_type": "execute_result"
    }
   ],
   "source": [
    "death_ser['2020-04-01':'2020-04-08':2]"
   ]
  },
  {
   "cell_type": "code",
   "execution_count": 60,
   "metadata": {},
   "outputs": [
    {
     "name": "stdout",
     "output_type": "stream",
     "text": [
      "5325\n",
      "no luck\n",
      "no luck\n"
     ]
    }
   ],
   "source": [
    "print(death_ser.get('2020-04-01'))\n",
    "print(death_ser.get('April 1st', 'no luck'))\n",
    "print(death_ser.get(['2020-04-01','April 1st'], 'no luck'))"
   ]
  },
  {
   "cell_type": "code",
   "execution_count": 64,
   "metadata": {},
   "outputs": [
    {
     "data": {
      "text/plain": [
       "count       180.000000\n",
       "mean      53377.255556\n",
       "std       52772.897080\n",
       "min           0.000000\n",
       "25%          14.250000\n",
       "50%       41097.500000\n",
       "75%      107436.000000\n",
       "max      139961.000000\n",
       "dtype: float64"
      ]
     },
     "execution_count": 64,
     "metadata": {},
     "output_type": "execute_result"
    }
   ],
   "source": [
    "# count doesnt count nan, len will\n",
    "death_ser.describe()\n"
   ]
  },
  {
   "cell_type": "code",
   "execution_count": 65,
   "metadata": {},
   "outputs": [
    {
     "data": {
      "text/plain": [
       "'2020-07-18'"
      ]
     },
     "execution_count": 65,
     "metadata": {},
     "output_type": "execute_result"
    }
   ],
   "source": [
    "death_ser.idxmax()"
   ]
  },
  {
   "cell_type": "code",
   "execution_count": 66,
   "metadata": {},
   "outputs": [
    {
     "data": {
      "text/plain": [
       "0         39\n",
       "12         2\n",
       "53326      1\n",
       "108192     1\n",
       "1353       1\n",
       "          ..\n",
       "119171     1\n",
       "107184     1\n",
       "139186     1\n",
       "66485      1\n",
       "125814     1\n",
       "Length: 141, dtype: int64"
      ]
     },
     "execution_count": 66,
     "metadata": {},
     "output_type": "execute_result"
    }
   ],
   "source": [
    "death_ser.value_counts()"
   ]
  },
  {
   "cell_type": "code",
   "execution_count": 69,
   "metadata": {},
   "outputs": [
    {
     "data": {
      "text/plain": [
       "date\n",
       "2020-01-21        0.0\n",
       "2020-01-22        0.0\n",
       "2020-01-23        0.0\n",
       "2020-01-24        0.0\n",
       "2020-01-25        0.0\n",
       "               ...   \n",
       "2020-07-14    68178.0\n",
       "2020-07-15    68663.5\n",
       "2020-07-16    69142.0\n",
       "2020-07-17    69593.0\n",
       "2020-07-18    69980.5\n",
       "Length: 180, dtype: float64"
      ]
     },
     "execution_count": 69,
     "metadata": {},
     "output_type": "execute_result"
    }
   ],
   "source": [
    "death_ser.apply(lambda death : death**1/2)"
   ]
  },
  {
   "cell_type": "code",
   "execution_count": 83,
   "metadata": {},
   "outputs": [
    {
     "data": {
      "text/plain": [
       "date\n",
       "2020-01-21    NaN\n",
       "2020-01-22    NaN\n",
       "2020-01-23    NaN\n",
       "2020-01-24    NaN\n",
       "2020-01-25    NaN\n",
       "             ... \n",
       "2020-07-14    NaN\n",
       "2020-07-15    NaN\n",
       "2020-07-16    NaN\n",
       "2020-07-17    dos\n",
       "2020-07-18    uno\n",
       "Length: 180, dtype: object"
      ]
     },
     "execution_count": 83,
     "metadata": {},
     "output_type": "execute_result"
    }
   ],
   "source": [
    "death_ser.map({139961:'uno', 139186:'dos'})"
   ]
  },
  {
   "cell_type": "code",
   "execution_count": null,
   "metadata": {},
   "outputs": [],
   "source": []
  }
 ],
 "metadata": {
  "kernelspec": {
   "display_name": "Python 3",
   "language": "python",
   "name": "python3"
  },
  "language_info": {
   "codemirror_mode": {
    "name": "ipython",
    "version": 3
   },
   "file_extension": ".py",
   "mimetype": "text/x-python",
   "name": "python",
   "nbconvert_exporter": "python",
   "pygments_lexer": "ipython3",
   "version": "3.7.7"
  }
 },
 "nbformat": 4,
 "nbformat_minor": 4
}
