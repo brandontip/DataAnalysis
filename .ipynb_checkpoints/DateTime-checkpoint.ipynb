{
 "cells": [
  {
   "cell_type": "code",
   "execution_count": 2,
   "metadata": {},
   "outputs": [],
   "source": [
    "import pandas as pd\n",
    "import datetime as dt"
   ]
  },
  {
   "cell_type": "markdown",
   "metadata": {},
   "source": [
    "datetime basics:"
   ]
  },
  {
   "cell_type": "code",
   "execution_count": 5,
   "metadata": {},
   "outputs": [],
   "source": [
    "bday = dt.date(2020, 4, 1)"
   ]
  },
  {
   "cell_type": "code",
   "execution_count": 8,
   "metadata": {},
   "outputs": [
    {
     "data": {
      "text/plain": [
       "1"
      ]
     },
     "execution_count": 8,
     "metadata": {},
     "output_type": "execute_result"
    }
   ],
   "source": [
    "bday.day"
   ]
  },
  {
   "cell_type": "code",
   "execution_count": 9,
   "metadata": {},
   "outputs": [],
   "source": [
    "bday = dt.datetime(2020, 4, 1)  # defaults to midnight"
   ]
  },
  {
   "cell_type": "code",
   "execution_count": 10,
   "metadata": {},
   "outputs": [
    {
     "data": {
      "text/plain": [
       "'2020-04-01 00:00:00'"
      ]
     },
     "execution_count": 10,
     "metadata": {},
     "output_type": "execute_result"
    }
   ],
   "source": [
    "str(bday)"
   ]
  },
  {
   "cell_type": "code",
   "execution_count": 13,
   "metadata": {},
   "outputs": [
    {
     "data": {
      "text/plain": [
       "Timestamp('2020-04-01 18:30:00')"
      ]
     },
     "execution_count": 13,
     "metadata": {},
     "output_type": "execute_result"
    }
   ],
   "source": [
    "pd.Timestamp(\"April 1st 2020\")\n",
    "pd.Timestamp(\"2020/4/1 6:30 pm\") # it will default to month-day-year if both <13"
   ]
  },
  {
   "cell_type": "code",
   "execution_count": 15,
   "metadata": {},
   "outputs": [],
   "source": [
    "dates = pd.Series([\"Today\", \"April 1 2020\", \"2020/05/01\", \"Hello\"])"
   ]
  },
  {
   "cell_type": "code",
   "execution_count": 19,
   "metadata": {},
   "outputs": [
    {
     "data": {
      "text/plain": [
       "0          NaT\n",
       "1   2020-04-01\n",
       "2   2020-05-01\n",
       "3          NaT\n",
       "dtype: datetime64[ns]"
      ]
     },
     "execution_count": 19,
     "metadata": {},
     "output_type": "execute_result"
    }
   ],
   "source": [
    "pd.to_datetime(dates, errors= \"coerce\")"
   ]
  },
  {
   "cell_type": "code",
   "execution_count": 28,
   "metadata": {},
   "outputs": [
    {
     "data": {
      "text/plain": [
       "DatetimeIndex(['2019-06-03', '2019-06-10', '2019-06-17', '2019-06-24',\n",
       "               '2019-07-01', '2019-07-08', '2019-07-15', '2019-07-22',\n",
       "               '2019-07-29', '2019-08-05', '2019-08-12', '2019-08-19',\n",
       "               '2019-08-26', '2019-09-02', '2019-09-09', '2019-09-16',\n",
       "               '2019-09-23', '2019-09-30', '2019-10-07', '2019-10-14',\n",
       "               '2019-10-21', '2019-10-28', '2019-11-04', '2019-11-11',\n",
       "               '2019-11-18', '2019-11-25', '2019-12-02', '2019-12-09',\n",
       "               '2019-12-16', '2019-12-23', '2019-12-30'],\n",
       "              dtype='datetime64[ns]', freq='W-MON')"
      ]
     },
     "execution_count": 28,
     "metadata": {},
     "output_type": "execute_result"
    }
   ],
   "source": [
    "pd.date_range(start = \"2020-01-01\", end = \"2020-01-31\" )\n",
    "pd.date_range(start = \"2020-01-01\", end = \"2020-01-02\", freq = \"H\" )\n",
    "pd.date_range(start = \"2020-01-01\", periods = 31, freq = \"W-Mon\" )\n",
    "pd.date_range(end = \"2020-01-01\", periods = 31, freq = \"W-Mon\" )"
   ]
  },
  {
   "cell_type": "code",
   "execution_count": 31,
   "metadata": {},
   "outputs": [],
   "source": [
    "s = pd.Series(pd.date_range(start = \"2020-01-01\", end = \"2020-01-31\" ))"
   ]
  },
  {
   "cell_type": "code",
   "execution_count": 34,
   "metadata": {},
   "outputs": [
    {
     "data": {
      "text/plain": [
       "0     2\n",
       "1     3\n",
       "2     4\n",
       "3     5\n",
       "4     6\n",
       "5     0\n",
       "6     1\n",
       "7     2\n",
       "8     3\n",
       "9     4\n",
       "10    5\n",
       "11    6\n",
       "12    0\n",
       "13    1\n",
       "14    2\n",
       "15    3\n",
       "16    4\n",
       "17    5\n",
       "18    6\n",
       "19    0\n",
       "20    1\n",
       "21    2\n",
       "22    3\n",
       "23    4\n",
       "24    5\n",
       "25    6\n",
       "26    0\n",
       "27    1\n",
       "28    2\n",
       "29    3\n",
       "30    4\n",
       "dtype: int64"
      ]
     },
     "execution_count": 34,
     "metadata": {},
     "output_type": "execute_result"
    }
   ],
   "source": [
    "# .dt functions like .str does\n",
    "s.dt.weekday"
   ]
  },
  {
   "cell_type": "code",
   "execution_count": 36,
   "metadata": {},
   "outputs": [],
   "source": [
    "s[\"Day\"] = s.dt.weekday"
   ]
  },
  {
   "cell_type": "code",
   "execution_count": null,
   "metadata": {},
   "outputs": [],
   "source": []
  }
 ],
 "metadata": {
  "kernelspec": {
   "display_name": "Python 3",
   "language": "python",
   "name": "python3"
  },
  "language_info": {
   "codemirror_mode": {
    "name": "ipython",
    "version": 3
   },
   "file_extension": ".py",
   "mimetype": "text/x-python",
   "name": "python",
   "nbconvert_exporter": "python",
   "pygments_lexer": "ipython3",
   "version": "3.7.7"
  }
 },
 "nbformat": 4,
 "nbformat_minor": 4
}
